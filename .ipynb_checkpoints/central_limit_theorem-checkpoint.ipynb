{
 "cells": [
  {
   "cell_type": "code",
   "execution_count": 14,
   "metadata": {},
   "outputs": [],
   "source": [
    "import numpy as np\n",
    "import pandas as pd\n",
    "import scipy\n",
    "import matplotlib.pyplot as plt\n",
    "from IPython.display import Math, Latex\n",
    "from IPython.core.display import Image\n",
    "import seaborn as sns\n",
    "sns.set(color_codes=True)\n",
    "sns.set(rc={'figure.figsize':(6,6)})\n",
    "%matplotlib inline"
   ]
  },
  {
   "cell_type": "markdown",
   "metadata": {},
   "source": [
    "Assignments\n",
    "\n",
    "Now that you have some code to create your own populations, sample them, and compare the samples to the populations, it's time to experiment. Using your own Jupyter notebook, or a copy of the notebook above, reproduce the pop1 and pop2 populations and samples using numpy's binomial function. Specifically, create two binomially distributed populations with n equal to 10 and size equal to 10000. The p-value of pop1 should be 0.2 and the p-value of pop2 should be 0.5. Using a sample size of 100, calculate the means and standard deviations of your samples.\n",
    "\n",
    "For each of the following tasks, first write what you expect will happen, then code the changes and observe what does happen. Discuss the results with your mentor.\n",
    "\n",
    "Increase the size of your samples from 100 to 1000, then calculate the means and standard deviations for your new samples and create histograms for each. Repeat this again, decreasing the size of your samples to 20. What values change, and what remain the same?\n",
    "\n",
    "Change the probability value (p in the NumPy documentation) for pop1 to 0.3, then take new samples and compute the t-statistic and p-value. Then change the probability value p for group 1 to 0.4, and do it again. What changes, and why?\n",
    "\n",
    "Change the distribution of your populations from binomial to a distribution of your choice. Do the sample mean values still accurately represent the population values?"
   ]
  },
  {
   "cell_type": "code",
   "execution_count": 15,
   "metadata": {},
   "outputs": [
    {
     "data": {
      "image/png": "[encoded data removed]",
      "text/plain": [
       "<Figure size 432x288 with 1 Axes>"
      ]
     },
     "metadata": {
      "needs_background": "light"
     },
     "output_type": "display_data"
    },
    {
     "name": "stdout",
     "output_type": "stream",
     "text": [
      "[1 4 0 ... 2 3 1]\n",
      "[6 5 5 ... 6 2 6]\n"
     ]
    }
   ],
   "source": [
    "#np.random.binomial(n=(samples or trials), p=(probability of success), size=(numbers of experiments))\n",
    "\n",
    "pop_binomial_1 = np.random.binomial(10, 0.2, 10000)\n",
    "pop_binomial_2 = np.random.binomial(10, 0.5, 10000) \n",
    "\n",
    "# Let’s make histograms for the two groups. \n",
    "\n",
    "plt.hist(pop_binomial_1, alpha=0.4, label='Population 1') \n",
    "plt.hist(pop_binomial_2, alpha=0.4, label='Population 2') \n",
    "plt.legend(loc='upper right') \n",
    "plt.show()\n",
    "\n",
    "print(pop_binomial_1)\n",
    "print(pop_binomial_2)\n",
    "\n",
    "#each result is better read as being out of n. 1010/100, 2508/n, etc..."
   ]
  },
  {
   "cell_type": "code",
   "execution_count": 16,
   "metadata": {},
   "outputs": [
    {
     "data": {
      "image/png": "[encoded data removed]",
      "text/plain": [
       "<Figure size 432x288 with 1 Axes>"
      ]
     },
     "metadata": {
      "needs_background": "light"
     },
     "output_type": "display_data"
    }
   ],
   "source": [
    "sample_binomial_1 = np.random.choice(pop_binomial_1, 100, replace=True)\n",
    "sample_binomial_2 = np.random.choice(pop_binomial_2, 100, replace=True)\n",
    "\n",
    "plt.hist(sample_binomial_1, alpha=0.5, label='sample 1') \n",
    "plt.hist(sample_binomial_2, alpha=0.5, label='sample 2') \n",
    "plt.legend(loc='upper right') \n",
    "plt.show()\n",
    "\n",
    "#print(sample1)\n",
    "#print(sample2)"
   ]
  },
  {
   "cell_type": "markdown",
   "metadata": {},
   "source": [
    "As expected, following the Central Limit Theorem, the distributions apear to be normally distributed."
   ]
  },
  {
   "cell_type": "code",
   "execution_count": 17,
   "metadata": {},
   "outputs": [
    {
     "name": "stdout",
     "output_type": "stream",
     "text": [
      "2.25\n",
      "4.92\n",
      "1.4239030865898141\n",
      "1.5663971399361019\n",
      "2.67\n"
     ]
    }
   ],
   "source": [
    "print(sample_binomial_1.mean())\n",
    "print(sample_binomial_2.mean())\n",
    "print(sample_binomial_1.std())\n",
    "print(sample_binomial_2.std())\n",
    "\n",
    "# Compute the difference between the two sample means.\n",
    "diff_binomial=sample_binomial_2.mean( ) -sample_binomial_1.mean()\n",
    "print(diff_binomial)"
   ]
  },
  {
   "cell_type": "markdown",
   "metadata": {},
   "source": [
    "The means od the the sample distributions show the Central Limit theorem at work. \n",
    "The means of the sample distributions are normally distributed."
   ]
  },
  {
   "cell_type": "code",
   "execution_count": 18,
   "metadata": {},
   "outputs": [
    {
     "name": "stdout",
     "output_type": "stream",
     "text": [
      "[100 100]\n",
      "[1.42390309 1.56639714]\n",
      "0.2116860883478175\n",
      "12.613015908787414\n"
     ]
    }
   ],
   "source": [
    "size = np.array([len(sample_binomial_1), len(sample_binomial_2)])\n",
    "sd = np.array([sample_binomial_1.std(), sample_binomial_2.std()])\n",
    "\n",
    "# The squared standard deviations are divided by the sample size and summed, then we take\n",
    "# the square root of the sum. \n",
    "diff_se_binomial = (sum(sd ** 2 / size)) ** 0.5  \n",
    "\n",
    "#The difference between the means divided by the standard error: T-value.  \n",
    "print(size)\n",
    "print(sd)\n",
    "print(diff_se_binomial)\n",
    "print(diff_binomial/diff_se_binomial)"
   ]
  },
  {
   "cell_type": "code",
   "execution_count": 19,
   "metadata": {},
   "outputs": [
    {
     "name": "stdout",
     "output_type": "stream",
     "text": [
      "Ttest_indResult(statistic=12.549792373269412, pvalue=6.610114022965254e-27)\n"
     ]
    }
   ],
   "source": [
    "from scipy.stats import ttest_ind\n",
    "print(ttest_ind(sample_binomial_2, sample_binomial_1, equal_var=False))"
   ]
  },
  {
   "cell_type": "markdown",
   "metadata": {},
   "source": [
    "My example with a normal distribution clearly shows the central limit theorem at work!!!"
   ]
  },
  {
   "cell_type": "code",
   "execution_count": 20,
   "metadata": {},
   "outputs": [
    {
     "data": {
      "image/png": "[encoded data removed]",
      "text/plain": [
       "<Figure size 432x288 with 1 Axes>"
      ]
     },
     "metadata": {
      "needs_background": "light"
     },
     "output_type": "display_data"
    },
    {
     "name": "stdout",
     "output_type": "stream",
     "text": [
      "[ 9.44814226 11.76513492  9.93669028 ...  9.68677782 10.46543953\n",
      "  8.21451424]\n",
      "[ 9.94648007 11.13010165  9.99294177 ...  9.41045204 11.02644236\n",
      "  8.24206769]\n"
     ]
    }
   ],
   "source": [
    "#np.random.normal(mu=(mean), sigma=(standard deviation), size=(numbers of experiments))\n",
    "\n",
    "pop_normal_1 = np.random.normal(10, 1, 10000)\n",
    "pop_normal_2 = np.random.normal(10, 1, 10000)\n",
    "\n",
    "plt.hist(pop_normal_1, alpha=0.5, label='Population 1') \n",
    "plt.hist(pop_normal_2, alpha=0.5, label='Population 2') \n",
    "plt.legend(loc='upper right') \n",
    "plt.show()\n",
    "\n",
    "print(pop_normal_1)\n",
    "print(pop_normal_2)"
   ]
  },
  {
   "cell_type": "code",
   "execution_count": 21,
   "metadata": {},
   "outputs": [
    {
     "data": {
      "image/png": "[encoded data removed]",
      "text/plain": [
       "<Figure size 432x288 with 1 Axes>"
      ]
     },
     "metadata": {
      "needs_background": "light"
     },
     "output_type": "display_data"
    }
   ],
   "source": [
    "sample_normal_1 = np.random.choice(pop_normal_1, 100, replace=True)\n",
    "sample_normal_2 = np.random.choice(pop_normal_2, 100, replace=True)\n",
    "\n",
    "plt.hist(sample_normal_1, alpha=0.5, label='sample 1') \n",
    "plt.hist(sample_normal_2, alpha=0.5, label='sample 2') \n",
    "plt.legend(loc='upper right') \n",
    "plt.show()\n",
    "\n",
    "#print(sample_normal_1)\n",
    "#print(sample_normal_2)"
   ]
  },
  {
   "cell_type": "code",
   "execution_count": 22,
   "metadata": {},
   "outputs": [
    {
     "name": "stdout",
     "output_type": "stream",
     "text": [
      "9.893024773582926\n",
      "9.853612238275264\n",
      "1.157820469543368\n",
      "0.9154225567446501\n",
      "-0.039412535307661756\n"
     ]
    }
   ],
   "source": [
    "print(sample_normal_1.mean())\n",
    "print(sample_normal_2.mean())\n",
    "print(sample_normal_1.std())\n",
    "print(sample_normal_2.std())\n",
    "\n",
    "# Compute the difference between the two sample means.\n",
    "diff_normal=sample_normal_2.mean( ) -sample_normal_1.mean()\n",
    "print(diff_normal)"
   ]
  },
  {
   "cell_type": "code",
   "execution_count": 23,
   "metadata": {},
   "outputs": [
    {
     "name": "stdout",
     "output_type": "stream",
     "text": [
      "[100 100]\n",
      "[1.15782047 0.91542256]\n",
      "0.14759900735067757\n",
      "-0.2670243927455575\n"
     ]
    }
   ],
   "source": [
    "size_normal = np.array([len(sample_normal_1), len(sample_normal_2)])\n",
    "sd_normal = np.array([sample_normal_1.std(), sample_normal_2.std()])\n",
    "\n",
    "# The squared standard deviations are divided by the sample size and summed, then we take\n",
    "# the square root of the sum. \n",
    "diff_se_normal = (sum(sd_normal ** 2 / size_normal)) ** 0.5  \n",
    "\n",
    "#The difference between the means divided by the standard error: T-value.  \n",
    "print(size_normal)\n",
    "print(sd_normal)\n",
    "print(diff_se_normal)\n",
    "print(diff_normal/diff_se_normal)"
   ]
  },
  {
   "cell_type": "code",
   "execution_count": 24,
   "metadata": {},
   "outputs": [
    {
     "name": "stdout",
     "output_type": "stream",
     "text": [
      "Ttest_indResult(statistic=-0.26568591618285375, pvalue=0.7907722416996223)\n"
     ]
    }
   ],
   "source": [
    "from scipy.stats import ttest_ind\n",
    "print(ttest_ind(sample_normal_2, sample_normal_1, equal_var=False))"
   ]
  },
  {
   "cell_type": "code",
   "execution_count": null,
   "metadata": {},
   "outputs": [],
   "source": []
  }
 ],
 "metadata": {
  "kernelspec": {
   "display_name": "Python 3",
   "language": "python",
   "name": "python3"
  },
  "language_info": {
   "codemirror_mode": {
    "name": "ipython",
    "version": 3
   },
   "file_extension": ".py",
   "mimetype": "text/x-python",
   "name": "python",
   "nbconvert_exporter": "python",
   "pygments_lexer": "ipython3",
   "version": "3.6.8"
  }
 },
 "nbformat": 4,
 "nbformat_minor": 2
}
